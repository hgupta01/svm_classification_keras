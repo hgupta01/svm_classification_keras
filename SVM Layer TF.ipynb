{
 "cells": [
  {
   "cell_type": "code",
   "execution_count": null,
   "metadata": {},
   "outputs": [],
   "source": [
    "import tensorflow as tf\n",
    "tf.enable_eager_execution()\n",
    "from tensorflow.keras.layers import Conv2D, MaxPooling2D, Dense, Flatten, Dropout\n",
    "from tensorflow.keras.models import Model, Sequential\n",
    "import tensorflow.keras.backend as K\n",
    "import numpy as np\n",
    "from tensorflow import contrib"
   ]
  },
  {
   "cell_type": "code",
   "execution_count": null,
   "metadata": {},
   "outputs": [],
   "source": [
    "def ds_map(image, label):\n",
    "    image = tf.cast(image, tf.float32)\n",
    "    image = tf.reshape(image, [28,28,1])\n",
    "    image = image//255.\n",
    "    label = tf.one_hot(label,10)\n",
    "    return image, label"
   ]
  },
  {
   "cell_type": "code",
   "execution_count": null,
   "metadata": {},
   "outputs": [],
   "source": [
    "train, test = tf.keras.datasets.mnist.load_data()\n",
    "\n",
    "# Foramtting test data\n",
    "x_test, y_test = test\n",
    "x_test = x_test//255.\n",
    "x_test = x_test.reshape(10000,28,28,1)\n",
    "y_test = tf.keras.utils.to_categorical(y_test)\n",
    "\n",
    "# Formatting training data\n",
    "mnist_ds = tf.data.Dataset.from_tensor_slices(train)\n",
    "mnist_ds = mnist_ds.map(ds_map).shuffle(60000).batch(32)"
   ]
  },
  {
   "cell_type": "code",
   "execution_count": null,
   "metadata": {},
   "outputs": [],
   "source": [
    "model = Sequential()\n",
    "model.add(Conv2D(32, kernel_size=(3, 3),activation='relu'))\n",
    "model.add(Conv2D(64, (3, 3), activation='relu'))\n",
    "model.add(MaxPooling2D(pool_size=(2, 2)))\n",
    "#model.add(Dropout(0.5))\n",
    "model.add(Flatten())\n",
    "model.add(Dense(128, activation='relu'))\n",
    "#model.add(Dropout(0.5))\n",
    "model.add(Dense(10, activation='linear', use_bias=False, name='svm'))"
   ]
  },
  {
   "cell_type": "code",
   "execution_count": null,
   "metadata": {},
   "outputs": [],
   "source": [
    "def svm_loss(layer, y_true, y_pred):\n",
    "    weights = layer.weights[0]\n",
    "    weights_tf = tf.convert_to_tensor(weights)\n",
    "    \n",
    "    pos = K.sum(y_true * y_pred, axis=-1)\n",
    "    neg = K.max((1.0 - y_true) * y_pred, axis=-1)\n",
    "    hinge_loss = K.mean(K.maximum(0.0, neg - pos + 1), axis=-1)\n",
    "    regularization_loss = 0.5*(tf.reduce_sum(tf.multiply(weights_tf,weights_tf)))\n",
    "    return regularization_loss + 0.4*hinge_loss"
   ]
  },
  {
   "cell_type": "code",
   "execution_count": null,
   "metadata": {},
   "outputs": [],
   "source": [
    "# Optimizers: Adam optimizers are used\n",
    "optimizer_adam = tf.train.AdamOptimizer(1.e-3)"
   ]
  },
  {
   "cell_type": "code",
   "execution_count": null,
   "metadata": {},
   "outputs": [],
   "source": [
    "def train(dataset, epochs, optimizer):\n",
    "    epoch_loss_avg = tfe.metrics.Mean()\n",
    "    epoch_accuracy = tfe.metrics.Accuracy()\n",
    "    for epoch in range(epochs):\n",
    "        for input_image, target in dataset:\n",
    "            with tf.GradientTape() as grad_tape:\n",
    "                # getting the output image from generator and discriminator\n",
    "                model_out = model(input_image)\n",
    "                model_loss = svm_loss(model.get_layer('svm'), target, model_out)\n",
    "                \n",
    "            gradients = grad_tape.gradient(model_loss, model.variables)\n",
    "            optimizer.apply_gradients(zip(gradients, model.variables))\n",
    "            epoch_loss_avg(model_loss)  \n",
    "            epoch_accuracy(tf.argmax(model(input_image), axis=1, output_type=tf.int32), tf.argmax(target, axis=1, output_type=tf.int32))\n",
    "            \n",
    "        train_loss_results.append(epoch_loss_avg.result())\n",
    "        train_accuracy_results.append(epoch_accuracy.result())\n",
    "        print(\"Epoch {:03d}: Loss: {:.3f}, Accuracy: {:.3%}\".format(epoch,\n",
    "                                                                epoch_loss_avg.result(),\n",
    "                                                                epoch_accuracy.result()))"
   ]
  },
  {
   "cell_type": "code",
   "execution_count": null,
   "metadata": {},
   "outputs": [],
   "source": [
    "def train2(dataset, epochs, optimizer):\n",
    "    for epoch in range(epochs):\n",
    "        loss_mat = []\n",
    "        acc_mat = []\n",
    "        for input_image, target in dataset:\n",
    "            with tf.GradientTape() as grad_tape:\n",
    "                # getting the output image from generator and discriminator\n",
    "                model_out = model(input_image)\n",
    "                model_loss = svm_loss(model.get_layer('svm'), target, model_out)\n",
    "            \n",
    "            gradients = grad_tape.gradient(model_loss, model.variables)\n",
    "            optimizer.apply_gradients(zip(gradients, model.variables))\n",
    "            loss_mat.append(model_out)\n",
    "            acc_mat.append(tf.math.equal(tf.argmax(model_out, axis=1, output_type=tf.int32), tf.argmax(target, axis=1, output_type=tf.int32)))\n",
    "        loss_ = tf.reduce_sum(loss_mat)\n",
    "        acc_mat = tf.cast(acc_mat, tf.float32)\n",
    "        acc_ = tf.reduce_sum(acc_mat)\n",
    "        \n",
    "        print('Loss:{}, Accuracy:{}'.format(loss_, acc_))"
   ]
  },
  {
   "cell_type": "code",
   "execution_count": null,
   "metadata": {},
   "outputs": [],
   "source": [
    "EPOCHS = 10\n",
    "\n",
    "tfe = contrib.eager\n",
    "train_loss_results = []\n",
    "train_accuracy_results = []\n",
    "\n",
    "train2(mnist_ds, EPOCHS, optimizer_adam)"
   ]
  },
  {
   "cell_type": "code",
   "execution_count": null,
   "metadata": {},
   "outputs": [],
   "source": [
    "score = model.evaluate(x_test, y_test, verbose=0)\n",
    "print('Test loss:', score[0])\n",
    "print('Test accuracy:', score[1])"
   ]
  }
 ],
 "metadata": {
  "kernelspec": {
   "display_name": "Python 3",
   "language": "python",
   "name": "python3"
  },
  "language_info": {
   "codemirror_mode": {
    "name": "ipython",
    "version": 3
   },
   "file_extension": ".py",
   "mimetype": "text/x-python",
   "name": "python",
   "nbconvert_exporter": "python",
   "pygments_lexer": "ipython3",
   "version": "3.5.2"
  }
 },
 "nbformat": 4,
 "nbformat_minor": 2
}
